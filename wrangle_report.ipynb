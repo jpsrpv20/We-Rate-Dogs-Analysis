{
 "cells": [
  {
   "cell_type": "markdown",
   "metadata": {},
   "source": [
    "# Wrangle Report Summary "
   ]
  },
  {
   "cell_type": "markdown",
   "metadata": {},
   "source": [
    "### Pre-requesite Python packages"
   ]
  },
  {
   "cell_type": "markdown",
   "metadata": {},
   "source": [
    "* pandas\n",
    "* requests\n",
    "* os\n",
    "* numpy\n",
    "* tweepy\n",
    "* json\n",
    "* wptools\n",
    "* time\n",
    "* matplotlib"
   ]
  },
  {
   "cell_type": "markdown",
   "metadata": {},
   "source": [
    "### Introduction"
   ]
  },
  {
   "cell_type": "markdown",
   "metadata": {},
   "source": [
    "The purpose of this notebook is to demonstrate initial steps to clean data from the WeRateDogs database in order to perform insightful analysis.\n",
    "\n",
    "Below, I describe the steps taken to produce the data clean up and visualizations in wrangly_act.ipynb. There are 3 steps to the data wrangle process."
   ]
  },
  {
   "cell_type": "markdown",
   "metadata": {},
   "source": [
    "* Gather\n",
    "* Assess\n",
    "* Clean"
   ]
  },
  {
   "cell_type": "markdown",
   "metadata": {},
   "source": [
    "## Gather"
   ]
  },
  {
   "cell_type": "markdown",
   "metadata": {},
   "source": [
    "Files Required:\n",
    "* twitter_arch.csv: The WeRateDogs Twitter archive of data prior to August 1st, 2017.\n",
    "* image_predictions.tsv: An image prediction file containing information on dog breeds that is hosted in Udacity's servers.\n",
    "* tweet_json.txt: File downloaded programmatically using the Tweepy API to fetch the favorite/retweet counts for each tweet_id in twitter_arch.csv"
   ]
  },
  {
   "cell_type": "markdown",
   "metadata": {},
   "source": [
    "## Assess"
   ]
  },
  {
   "cell_type": "markdown",
   "metadata": {},
   "source": [
    "The following steps were used to assess the data in the 3 files mentioned above:\n",
    "\n",
    "* Initial visual analysis (i.e looking for anything suspicious in the data by inspecting samples)\n",
    "* Data information using pandas dataframes (Ex: null values, duplicates, incorrect data types)\n",
    "* Advanced data quality/tidiness analysis using pandas. (Ex: Irrelevant data exclusion)\n",
    "\n",
    "As a result, several issues were found. These can be classified in 2 groups: Quality and Tidiness issues.\n",
    "\n",
    "_**Note**_: This process was not exhaustive. I limited the amount of issues to 10 but there are potentially many more data issues left to fix."
   ]
  },
  {
   "cell_type": "markdown",
   "metadata": {},
   "source": [
    "### Quality "
   ]
  },
  {
   "cell_type": "markdown",
   "metadata": {},
   "source": [
    "#### twitter_arch"
   ]
  },
  {
   "cell_type": "markdown",
   "metadata": {},
   "source": [
    "* retweeted_status_id is NaN in 2175 rows, this should be 0 instead.\n",
    "* Remove 112 retweets.\n",
    "* Remove images associated to retweets.\n",
    "* Incorrect data type for retweeted_status_id and retweet_status_user_id. It should be an integer instead of a float.\n",
    "* There are 745 records where the dog's name is \"N/A\" or \"Null\" or \"None\".\n",
    "* Source has html, this should be removed to show a more readable source.\n",
    "* The following columns should be datetime instead of string: timestamp, retweet_status_timestamp.\n",
    "* Remove the in_reply_to_status_id, in_reply_to_user_id, retweeted_status_id, retweeted_status_user_id since we won't do any analysis on those columns."
   ]
  },
  {
   "cell_type": "markdown",
   "metadata": {},
   "source": [
    "#### image_pred"
   ]
  },
  {
   "cell_type": "markdown",
   "metadata": {},
   "source": [
    "* 66 duplicate images.\n",
    "* There are some tweets missing images."
   ]
  },
  {
   "cell_type": "markdown",
   "metadata": {},
   "source": [
    "### Tidiness"
   ]
  },
  {
   "cell_type": "markdown",
   "metadata": {},
   "source": [
    "* The dog statuses are in 4 different columns when they could just be in 1.\n",
    "* The twitter_arch and tweet_json tables can be merged."
   ]
  },
  {
   "cell_type": "markdown",
   "metadata": {},
   "source": [
    "## Clean"
   ]
  },
  {
   "cell_type": "markdown",
   "metadata": {},
   "source": [
    "The quality issues mentioned above were manually and programmatically fixed. Joins between all 3 tables were used to determined only the relevant data and exclude unnessary data (i.e duplicates, retweets, tweets missing images, irrelevant columns).\n",
    "\n",
    "As a standard, for each issue there is Coding and Testing section. An assessment of the existing data is taken prior to coding the changes and is used to compare with the resulting data in the testing section."
   ]
  }
 ],
 "metadata": {
  "kernelspec": {
   "display_name": "Python 2",
   "language": "python",
   "name": "python2"
  },
  "language_info": {
   "codemirror_mode": {
    "name": "ipython",
    "version": 2
   },
   "file_extension": ".py",
   "mimetype": "text/x-python",
   "name": "python",
   "nbconvert_exporter": "python",
   "pygments_lexer": "ipython2",
   "version": "2.7.14"
  }
 },
 "nbformat": 4,
 "nbformat_minor": 2
}
